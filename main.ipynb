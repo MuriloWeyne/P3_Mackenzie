{
 "cells": [
  {
   "cell_type": "markdown",
   "id": "cdb072e1",
   "metadata": {},
   "source": [
    "# Projeto Aplicado III - Construindo um sistema de recomendação"
   ]
  },
  {
   "cell_type": "markdown",
   "id": "43c42892",
   "metadata": {},
   "source": [
    "O projeto tem como objetivo **desenvolver um sistema de recomendação de filmes** utilizando o *5000 Movie Dataset*, disponível no Kaggle, que reúne informações detalhadas sobre cerca de 5.000 produções do The Movie Database (TMDb). Esse conjunto de dados inclui variáveis como **orçamento, gêneros, popularidade, empresas produtoras, países de produção, elenco e equipe técnica**, permitindo a aplicação de técnicas de aprendizado de máquina para sugerir conteúdos mais relevantes aos usuários.\n",
    "\n",
    "A iniciativa busca não apenas aprimorar competências práticas em **ciência de dados e mineração de dados**, mas também contribuir para os **Objetivos de Desenvolvimento Sustentável (ODS)** da ONU, como o **ODS 9 (Inovação e Infraestrutura)**, o **ODS 4 (Educação de Qualidade)** e o **ODS 10 (Redução das Desigualdades)**. Assim, o sistema pretende oferecer recomendações personalizadas que promovam maior **diversidade cultural e inclusão digital**\n"
   ]
  },
  {
   "cell_type": "markdown",
   "id": "ed057d11",
   "metadata": {},
   "source": [
    "Para a análise e desenvolvimento deste projeto, será necessário utilizar um conjunto de bibliotecas do ecossistema Python, cada uma com um papel específico no fluxo de trabalho de **análise exploratória** e **construção do sistema de recomendação**.\n",
    "\n",
    "- **pandas**: essencial para manipulação e análise de dados tabulares, permitindo leitura, limpeza e transformação dos datasets `tmdb_5000_movies` e `tmdb_5000_credits`.  \n",
    "- **numpy**: fornece suporte para operações matemáticas e vetorização, aumentando a eficiência no processamento de dados.  \n",
    "- **matplotlib**: utilizada para criar visualizações básicas, como gráficos de barras, dispersão e histogramas.  \n",
    "- **seaborn**: complementa o matplotlib oferecendo visualizações estatísticas mais sofisticadas e com estética aprimorada.  \n",
    "- **scikit-learn**: importante para o pré-processamento dos dados, cálculo de métricas de avaliação e implementação de algoritmos de recomendação baseados em aprendizado de máquina.  \n",
    "- **scipy**: será usada para cálculos matemáticos \n",
    "- **surprise (scikit-surprise)**: biblioteca especializada em sistemas de recomendação, especialmente nos modelos colaborativos como **SVD** e **KNNBasic**, permitindo comparar técnicas.  \n",
    "- **lightfm**: possibilita a construção de sistemas de recomendação híbridos, combinando informações de conteúdo e interações de usuários.  \n",
    "- **tensorflow / pytorch**: úteis caso seja necessário evoluir para modelos de recomendação mais avançados baseados em **deep learning**.\n"
   ]
  },
  {
   "cell_type": "markdown",
   "id": "e07f5ca1",
   "metadata": {},
   "source": [
    "Abaixo, será realizada a importação das bibliotecas necessárias para a **análise exploratória** e a **construção do sistema de recomendação**."
   ]
  },
  {
   "cell_type": "markdown",
   "id": "07836b9a",
   "metadata": {},
   "source": [
    "Antes de iniciar a análise, é necessário garantir que todas as bibliotecas utilizadas neste projeto estejam instaladas no ambiente.  \n",
    "Para isso, basta executar o comando abaixo no terminal ou em uma célula do Jupyter Notebook (prefixado com `!`):\n",
    "\n",
    "```bash\n",
    "pip install -r requirements.txt\n"
   ]
  },
  {
   "cell_type": "code",
   "execution_count": null,
   "id": "e8986da8",
   "metadata": {},
   "outputs": [],
   "source": [
    "%pip install -r requirements.txt"
   ]
  },
  {
   "cell_type": "code",
   "execution_count": null,
   "id": "9fb00113",
   "metadata": {},
   "outputs": [],
   "source": [
    "# Bibliotecas para análise de dados\n",
    "import pandas as pd\n",
    "import numpy as np\n",
    "\n",
    "# Bibliotecas para visualização\n",
    "import matplotlib.pyplot as plt\n",
    "import seaborn as sns\n",
    "\n",
    "# Bibliotecas para sistemas de recomendação\n",
    "from sklearn.metrics.pairwise import cosine_similarity\n",
    "from sklearn.feature_extraction.text import CountVectorizer\n",
    "\n",
    "import scipy\n",
    "from surprise import Dataset, Reader, SVD, KNNBasic\n",
    "from lightfm import LightFM\n",
    "\n",
    "# Deep Learning (opcional, dependendo da abordagem)\n",
    "import tensorflow as tf\n",
    "import torch\n"
   ]
  },
  {
   "cell_type": "code",
   "execution_count": null,
   "id": "6bc0598c",
   "metadata": {},
   "outputs": [],
   "source": [
    "# Leitura dos datasets\n",
    "movies_df = pd.read_csv(\"datasets/tmdb_5000_movies.csv\")\n",
    "credits_df = pd.read_csv(\"datasets/tmdb_5000_credits.csv\")\n",
    "\n",
    "# Mostrando as primeiras linhas dos datasets\n",
    "print(\"📌 Movies Dataset:\")\n",
    "display(movies_df.head())\n",
    "\n",
    "print(\"\\n📌 Credits Dataset:\")\n",
    "display(credits_df.head())\n",
    "\n",
    "# Informações básicas dos datasets\n",
    "print(\"\\n🔎 Informações do Movies Dataset:\")\n",
    "print(movies_df.info())\n",
    "\n",
    "print(\"\\n🔎 Informações do Credits Dataset:\")\n",
    "print(credits_df.info())\n"
   ]
  }
 ],
 "metadata": {
  "kernelspec": {
   "display_name": "Python 3",
   "language": "python",
   "name": "python3"
  },
  "language_info": {
   "codemirror_mode": {
    "name": "ipython",
    "version": 3
   },
   "file_extension": ".py",
   "mimetype": "text/x-python",
   "name": "python",
   "nbconvert_exporter": "python",
   "pygments_lexer": "ipython3",
   "version": "3.11.0"
  }
 },
 "nbformat": 4,
 "nbformat_minor": 5
}
