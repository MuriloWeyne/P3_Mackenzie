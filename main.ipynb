{
 "cells": [
  {
   "cell_type": "markdown",
   "id": "cdb072e1",
   "metadata": {},
   "source": [
    "# Projeto Aplicado III - Construindo um sistema de recomendação"
   ]
  },
  {
   "cell_type": "markdown",
   "id": "43c42892",
   "metadata": {},
   "source": [
    "O projeto tem como objetivo **desenvolver um sistema de recomendação de filmes** utilizando o *5000 Movie Dataset*, disponível no Kaggle, que reúne informações detalhadas sobre cerca de 5.000 produções do The Movie Database (TMDb). Esse conjunto de dados inclui variáveis como **orçamento, gêneros, popularidade, empresas produtoras, países de produção, elenco e equipe técnica**, permitindo a aplicação de técnicas de aprendizado de máquina para sugerir conteúdos mais relevantes aos usuários.\n",
    "\n",
    "A iniciativa busca não apenas aprimorar competências práticas em **ciência de dados e mineração de dados**, mas também contribuir para os **Objetivos de Desenvolvimento Sustentável (ODS)** da ONU, como o **ODS 9 (Inovação e Infraestrutura)**, o **ODS 4 (Educação de Qualidade)** e o **ODS 10 (Redução das Desigualdades)**. Assim, o sistema pretende oferecer recomendações personalizadas que promovam maior **diversidade cultural e inclusão digital**\n"
   ]
  },
  {
   "cell_type": "markdown",
   "id": "ed057d11",
   "metadata": {},
   "source": [
    "Para a análise e desenvolvimento deste projeto, será necessário utilizar um conjunto de bibliotecas do ecossistema Python, cada uma com um papel específico no fluxo de trabalho de **análise exploratória** e **construção do sistema de recomendação**.\n",
    "\n",
    "- **pandas**: essencial para manipulação e análise de dados tabulares, permitindo leitura, limpeza e transformação dos datasets `tmdb_5000_movies` e `tmdb_5000_credits`.  \n",
    "- **numpy**: fornece suporte para operações matemáticas e vetorização, aumentando a eficiência no processamento de dados.  \n",
    "- **matplotlib**: utilizada para criar visualizações básicas, como gráficos de barras, dispersão e histogramas.  \n",
    "- **seaborn**: complementa o matplotlib oferecendo visualizações estatísticas mais sofisticadas e com estética aprimorada.  \n",
    "- **scikit-learn**: importante para o pré-processamento dos dados, cálculo de métricas de avaliação e implementação de algoritmos de recomendação baseados em aprendizado de máquina.  \n",
    "- **scipy**: será usada para cálculos matemáticos \n",
    "- **surprise (scikit-surprise)**: biblioteca especializada em sistemas de recomendação, especialmente nos modelos colaborativos como **SVD** e **KNNBasic**, permitindo comparar técnicas.  \n",
    "- **lightfm**: possibilita a construção de sistemas de recomendação híbridos, combinando informações de conteúdo e interações de usuários.  \n",
    "- **tensorflow / pytorch**: úteis caso seja necessário evoluir para modelos de recomendação mais avançados baseados em **deep learning**.\n"
   ]
  },
  {
   "cell_type": "markdown",
   "id": "e07f5ca1",
   "metadata": {},
   "source": [
    "Abaixo, será realizada a importação das bibliotecas necessárias para a **análise exploratória** e a **construção do sistema de recomendação**."
   ]
  },
  {
   "cell_type": "markdown",
   "id": "07836b9a",
   "metadata": {},
   "source": [
    "Antes de iniciar a análise, é necessário garantir que todas as bibliotecas utilizadas neste projeto estejam instaladas no ambiente.  \n",
    "Para isso, basta executar o comando abaixo no terminal ou em uma célula do Jupyter Notebook (prefixado com `!`):\n",
    "\n",
    "```bash\n",
    "pip install -r requirements.txt\n"
   ]
  },
  {
   "cell_type": "code",
   "execution_count": null,
   "id": "9fb00113",
   "metadata": {},
   "outputs": [],
   "source": [
    "# Bibliotecas para análise de dados\n",
    "import pandas as pd\n",
    "import numpy as np\n",
    "import ast\n",
    "import joblib\n",
    "import os\n",
    "\n",
    "# Bibliotecas para visualização\n",
    "import matplotlib.pyplot as plt\n",
    "import seaborn as sns\n",
    "\n",
    "# Bibliotecas para sistemas de recomendação\n",
    "from sklearn.metrics.pairwise import cosine_similarity\n",
    "from sklearn.feature_extraction.text import TfidfVectorizer\n",
    "from scipy import sparse\n",
    "\n",
    "\n"
   ]
  },
  {
   "cell_type": "code",
   "execution_count": null,
   "id": "6bc0598c",
   "metadata": {},
   "outputs": [],
   "source": [
    "# Leitura dos datasets\n",
    "movies_df = pd.read_csv(\"datasets/tmdb_5000_movies.csv\")\n",
    "credits_df = pd.read_csv(\"datasets/tmdb_5000_credits.csv\")\n",
    "\n",
    "# Mostrando as primeiras linhas dos datasets\n",
    "print(\"📌 Movies Dataset:\")\n",
    "display(movies_df.head())\n",
    "\n",
    "print(\"\\n📌 Credits Dataset:\")\n",
    "display(credits_df.head())\n",
    "\n",
    "# Informações básicas dos datasets\n",
    "print(\"\\n🔎 Informações do Movies Dataset:\")\n",
    "print(movies_df.info())\n",
    "\n",
    "print(\"\\n🔎 Informações do Credits Dataset:\")\n",
    "print(credits_df.info())\n"
   ]
  },
  {
   "cell_type": "markdown",
   "id": "a40fd2f4",
   "metadata": {},
   "source": [
    "Nesta etapa, será realizada a **seleção das colunas relevantes** para a construção do sistema de recomendação.  \n",
    "\n",
    "O objetivo é reduzir o dataframe apenas às variáveis que realmente serão utilizadas no modelo, garantindo maior **eficiência no processamento**, evitando redundâncias e mantendo o foco nos atributos mais informativos para a geração das recomendações.\n",
    "\n",
    "Além disso, também serão tratados os valores nulos para diminuir o ruído presente no dataset.\n",
    "\n",
    "Também será feito um **merge com o dataframe de créditos**, permitindo integrar informações sobre elenco e equipe técnica ao conjunto de dados principal, enriquecendo assim a base para a construção do sistema de recomendação.\n"
   ]
  },
  {
   "cell_type": "code",
   "execution_count": null,
   "id": "505a9d77",
   "metadata": {},
   "outputs": [],
   "source": [
    "# Movies Dataset\n",
    "\n",
    "# Filtrando somente linhas em que o filme está com status 'Released'\n",
    "# Utilizamos o reset_index(drop=True) para resetar os índices do DataFrame após o filtro\n",
    "movies_df = movies_df[movies_df['status'] == 'Released'].reset_index(drop=True)\n",
    "# Agora, filtraremos apenas as colunas que nos interessam para a análise\n",
    "movies_df = movies_df[['id', 'title', 'genres', 'vote_average', 'vote_count', 'popularity', 'release_date', 'overview', 'runtime', 'keywords', 'production_companies', 'production_countries', 'spoken_languages']]\n",
    "# Tratando linhas com valores nulos\n",
    "movies_df = movies_df.dropna().reset_index(drop=True)\n",
    "# Convertendo a coluna 'release_date' para o tipo datetime\n",
    "movies_df['release_date'] = pd.to_datetime(movies_df['release_date'], errors='coerce')\n",
    "\n",
    "# Credits Dataset\n",
    "# Selecionando apenas as colunas que nos interessam\n",
    "credits_df = credits_df[['movie_id', 'cast', 'crew']]\n",
    "# Tratando linhas com valores nulos\n",
    "credits_df = credits_df.dropna().reset_index(drop=True)\n",
    "# Renomeando a coluna 'movie_id' para 'id' para facilitar o merge\n",
    "credits_df = credits_df.rename(columns={'movie_id': 'id'})\n",
    "\n",
    "# Merge dos datasets\n",
    "# Realizando o merge dos datasets 'movies_df' e 'credits_df' com base na coluna 'id'\n",
    "movies_df = movies_df.merge(credits_df, on='id')\n",
    "# Mostrando as primeiras linhas do dataset final\n",
    "print(\"\\n📌 Dataset Final após Merge:\")\n",
    "display(movies_df)\n"
   ]
  },
  {
   "cell_type": "markdown",
   "id": "cabc8c38",
   "metadata": {},
   "source": [
    "Neste trecho de código é realizado o **tratamento das colunas no formato JSON** presentes nos datasets.  \n",
    "Foram criadas funções auxiliares para converter as colunas que armazenam listas de dicionários em **listas de valores extraídos**, de forma a facilitar a manipulação e análise.  \n",
    "\n",
    "- A função `parse_json_column` é responsável por percorrer colunas no formato JSON e **extrair os valores de um campo específico** (como `name`, `iso_3166_1` ou `iso_639_1`).  \n",
    "- A função `extract_director` percorre a coluna `crew` e **identifica o diretor principal** de cada filme, criando uma nova coluna `director`.  \n",
    "\n",
    "Após o processamento, as colunas originais em JSON são transformadas em listas de valores mais simples, e a coluna `crew` foi descartada, visto que sua informação relevante (o diretor) já foi extraída.  \n",
    "Esse tratamento torna o dataframe mais **limpo e estruturado**, possibilitando seu uso na análise exploratória e na construção do sistema de recomendação."
   ]
  },
  {
   "cell_type": "code",
   "execution_count": null,
   "id": "954745df",
   "metadata": {},
   "outputs": [],
   "source": [
    "# Funções para processar as colunas JSON\n",
    "def parse_json_column(movies_df, column_name, key='name'):\n",
    "    def extract_names(json_str):\n",
    "        if isinstance(json_str, str):\n",
    "            try:\n",
    "                list_of_dicts = ast.literal_eval(json_str)\n",
    "                if isinstance(list_of_dicts, list):\n",
    "                    return [d[key] for d in list_of_dicts if key in d]\n",
    "            except (ValueError, SyntaxError):\n",
    "                pass\n",
    "        return []\n",
    "    movies_df[column_name] = movies_df[column_name].apply(extract_names)\n",
    "    return movies_df\n",
    "\n",
    "# Método para extrair o diretor do elenco\n",
    "def extract_director(crew_json):\n",
    "    if isinstance(crew_json, str):\n",
    "        try:\n",
    "            crew_list = ast.literal_eval(crew_json)\n",
    "            for member in crew_list:\n",
    "                if member.get('job') == 'Director':\n",
    "                    return member.get('name')\n",
    "        except (ValueError, SyntaxError):\n",
    "            pass\n",
    "    return np.nan\n",
    "\n",
    "# Aplicando as funções para explodir as colunas JSON\n",
    "movies_df = parse_json_column(movies_df, 'genres')\n",
    "movies_df = parse_json_column(movies_df, 'keywords')\n",
    "movies_df = parse_json_column(movies_df, 'production_companies')\n",
    "movies_df = parse_json_column(movies_df, 'production_countries', key='iso_3166_1') \n",
    "movies_df = parse_json_column(movies_df, 'spoken_languages', key='iso_639_1')\n",
    "movies_df = parse_json_column(movies_df, 'cast', key='name')\n",
    "movies_df['director'] = movies_df['crew'].apply(extract_director)\n",
    "\n",
    "# Removendo a coluna 'crew' original, pois já extraímos o diretor\n",
    "movies_df = movies_df.drop(columns=['crew'])\n",
    "\n",
    "# Mostrando as primeiras linhas do dataset após o tratamento das colunas JSON\n",
    "print(\"\\n📌 Dataset Final após tratamento de JSON:\")\n",
    "display(movies_df.head())"
   ]
  },
  {
   "cell_type": "markdown",
   "id": "b3d7db72",
   "metadata": {},
   "source": [
    "Abaixo, salvamos o *dataset* normalizado em um arquivo CSV, para que possamos reutilizá-lo novamente sem a necessidade de executar os métodos acima."
   ]
  },
  {
   "cell_type": "code",
   "execution_count": null,
   "id": "001c79a4",
   "metadata": {},
   "outputs": [],
   "source": [
    "movies_df.to_csv(\"datasets/movies_cleaned.csv\", index=False)"
   ]
  },
  {
   "cell_type": "markdown",
   "id": "bebeaa6a",
   "metadata": {},
   "source": [
    "O processo de treinamento do **sistema de recomendação baseada em conteúdo** consiste em transformar as **informações textuais dos filmes** em representações numéricas que permitam medir similaridade. Para isso, os atributos mais relevantes — como **sinopse (overview), gêneros, palavras-chave, elenco e diretor** — são **concatenados em um único campo de texto**. Em seguida, aplica-se a técnica **TF-IDF (Term Frequency – Inverse Document Frequency)**, que gera uma matriz esparsa onde cada filme é representado por um vetor numérico que valoriza **termos mais característicos** e reduz a importância de **palavras comuns**.  \n",
    "\n",
    "Com a matriz **TF-IDF** construída, o próximo passo é calcular a **similaridade do cosseno** entre os vetores, o que permite identificar filmes **mais próximos em termos de conteúdo**. Assim, dado um título escolhido pelo usuário, o sistema compara seu vetor com todos os outros e retorna uma **lista dos filmes mais semelhantes**. Esse processo **dispensa dados explícitos de usuários** e permite **recomendações personalizadas** a partir das características intrínsecas dos filmes.  \n",
    "\n",
    "Além disso, também foi criado um método que dado um texto genérico de busca (em inglês), o sistema compara o vetor do texto genérico com o conteúdo do filme baseado nas colunas do *dataset* normalizado.\n"
   ]
  },
  {
   "cell_type": "code",
   "execution_count": null,
   "id": "ac7659c1",
   "metadata": {},
   "outputs": [],
   "source": [
    "# Funções auxiliares para preparação dos dados\n",
    "def normalize_token(tok: str) -> str:\n",
    "    \"\"\"Normaliza um token: minúsculas, espaços por underscores, remove caracteres especiais.\"\"\"\n",
    "    t = tok.lower().strip()\n",
    "    t = re.sub(r\"\\s+\", \"_\", t)\n",
    "    t = re.sub(r\"[^a-z0-9_\\-]\", \"\", t)\n",
    "    return t\n",
    "\n",
    "def parse_listish(x):\n",
    "    \"\"\"Converte uma string que representa uma lista em uma lista de tokens normalizados.\"\"\"\n",
    "    if isinstance(x, list):\n",
    "        return x\n",
    "    if isinstance(x, str):\n",
    "        s = x.strip()\n",
    "        if s.startswith('[') and s.endswith(']'):\n",
    "            try:\n",
    "                val = ast.literal_eval(s)\n",
    "                if isinstance(val, list):\n",
    "                    return [normalize_token(str(v)) for v in val if str(v).strip()]\n",
    "            except Exception:\n",
    "                pass\n",
    "        return [normalize_token(s)] if s else []\n",
    "    return []\n",
    "\n",
    "def clean_text(s: str) -> str:\n",
    "    \"\"\"Limpa um texto: minúsculas, remove caracteres especiais, múltiplos espaços.\"\"\"\n",
    "    if not isinstance(s, str):\n",
    "        return \"\"\n",
    "    s = s.lower()\n",
    "    s = re.sub(r\"[^a-z0-9\\s]\", \" \", s)\n",
    "    s = re.sub(r\"\\s+\", \" \", s).strip()\n",
    "    return s\n",
    "\n",
    "def join_tokens(tokens):\n",
    "    \"\"\"Une uma lista de tokens em uma string, ignorando valores não-string ou vazios.\"\"\"\n",
    "    return \" \".join([t for t in tokens if isinstance(t, str) and t])\n",
    "\n",
    "def prepare_data(csv_path=\"datasets/movies_cleaned.csv\"):\n",
    "    \"\"\"Prepara os dados para o sistema de recomendação.\"\"\"\n",
    "    df = pd.read_csv(csv_path)\n",
    "\n",
    "    # listas normalizadas\n",
    "    df[\"director_list\"] = df[\"director\"].apply(lambda x: [normalize_token(x)] if isinstance(x, str) and x.strip() else [])\n",
    "    for col in [\"genres\", \"keywords\", \"cast\"]:\n",
    "        df[col + \"_list\"] = df[col].apply(parse_listish)\n",
    "\n",
    "    # texto livre\n",
    "    df[\"overview_clean\"] = df[\"overview\"].apply(clean_text)\n",
    "\n",
    "    # bolsa simbólica (tokens)\n",
    "    df[\"symbolic_bag\"] = (\n",
    "        df[\"genres_list\"].apply(join_tokens) + \" \" +\n",
    "        df[\"keywords_list\"].apply(join_tokens) + \" \" +\n",
    "        df[\"cast_list\"].apply(join_tokens) + \" \" +\n",
    "        df[\"director_list\"].apply(join_tokens)\n",
    "    ).str.strip()\n",
    "\n",
    "    # campo final\n",
    "    df[\"final_text\"] = (df[\"overview_clean\"] + \" \" + df[\"symbolic_bag\"]).str.strip()\n",
    "\n",
    "    # guardamos algumas colunas úteis para posterior ranking\n",
    "    base_cols = [\"id\", \"title\", \"vote_average\", \"vote_count\", \"popularity\"]\n",
    "    keep = [c for c in base_cols if c in df.columns]\n",
    "    idx_df = df[keep].copy()\n",
    "    return df, idx_df\n",
    "\n",
    "def train_or_load(df, vec_path=\"datasets/tfidf_vectorizer.pkl\", mat_path=\"datasets/tfidf_matrix.npz\", idx_path=\"datasets/movies_index.csv\"):\n",
    "    \"\"\"Treina ou carrega o modelo TF-IDF e a matriz esparsa.\"\"\"\n",
    "    if os.path.exists(vec_path) and os.path.exists(mat_path) and os.path.exists(idx_path):\n",
    "        vectorizer = joblib.load(vec_path)\n",
    "        tfidf_matrix = sparse.load_npz(mat_path)\n",
    "        idx_df = pd.read_csv(idx_path)\n",
    "        return vectorizer, tfidf_matrix, idx_df"
   ]
  },
  {
   "cell_type": "code",
   "execution_count": null,
   "id": "d1b2e31b",
   "metadata": {},
   "outputs": [],
   "source": [
    "title_to_index = {t.lower(): i for i, t in enumerate(movies_df[\"title\"].astype(str))}\n",
    "vectorizer, tfidf_matrix, idx_df = train_or_load(prepare_data())"
   ]
  },
  {
   "cell_type": "code",
   "execution_count": null,
   "id": "91a012fc",
   "metadata": {},
   "outputs": [],
   "source": [
    "def recommend_movies(query_title: str, top_n: int = 10, exclude_same: bool = True):\n",
    "    \"\"\"Recomenda filmes similares a um título dado.\"\"\"\n",
    "    idx = title_to_index.get(query_title.lower())\n",
    "    if idx is None:\n",
    "        raise ValueError(f\"Título não encontrado no dataset: {query_title}\")\n",
    "    sims = cosine_similarity(tfidf_matrix[idx], tfidf_matrix).ravel()\n",
    "    order = np.argsort(-sims)\n",
    "    results = []\n",
    "    for i in order:\n",
    "        if exclude_same and i == idx:\n",
    "            continue\n",
    "        results.append((movies_df.at[i, \"title\"], float(sims[i]), int(movies_df.at[i, \"vote_count\"]), float(movies_df.at[i, \"vote_average\"])))\n",
    "        if len(results) >= top_n:\n",
    "            break\n",
    "    rec_df = pd.DataFrame(results, columns=[\"title\", \"similarity\", \"vote_count\", \"vote_average\"])\n",
    "    return rec_df"
   ]
  },
  {
   "cell_type": "code",
   "execution_count": null,
   "id": "0e405e15",
   "metadata": {},
   "outputs": [],
   "source": [
    "def recommend_by_text(query_text: str, top_n: int = 10, rerank_popularity: bool = True):\n",
    "    \"\"\"\n",
    "    Gera recomendações a partir de um texto livre.\n",
    "    - query_text: ex. \"space adventure with aliens and strong female lead\"\n",
    "    - rerank_popularity: se True, reordena suavemente por popularidade (evita filmes obscuros no topo)\n",
    "    \"\"\"\n",
    "    assert isinstance(query_text, str) and query_text.strip(), \"query_text deve ser uma string não vazia.\"\n",
    "    # carregamento/treino (idempotente)\n",
    "    df, idx_df = prepare_data(\"datasets/movies_cleaned.csv\")\n",
    "    vectorizer, tfidf_matrix, _ = train_or_load(df)\n",
    "\n",
    "    # Vetoriza a consulta usando o vocabulário TF-IDF treinado\n",
    "    q = clean_text(query_text)\n",
    "    q_vec = vectorizer.transform([q])\n",
    "\n",
    "    # Similaridade com todos os filmes\n",
    "    sims = cosine_similarity(q_vec, tfidf_matrix).ravel()\n",
    "\n",
    "    # Monta dataframe de resultados\n",
    "    out = idx_df.copy()\n",
    "    out[\"similarity\"] = sims\n",
    "\n",
    "    # (Opcional) re-rank por popularidade/nota com mistura linear simples\n",
    "    # Normaliza popularidade e vote_average para [0,1]\n",
    "    if rerank_popularity:\n",
    "        if \"popularity\" in out.columns:\n",
    "            pop = out[\"popularity\"].astype(float)\n",
    "            pop_norm = (pop - pop.min()) / (pop.max() - pop.min() + 1e-9)\n",
    "        else:\n",
    "            pop_norm = 0.0\n",
    "\n",
    "        if \"vote_average\" in out.columns:\n",
    "            va = out[\"vote_average\"].astype(float)\n",
    "            va_norm = (va - va.min()) / (va.max() - va.min() + 1e-9)\n",
    "        else:\n",
    "            va_norm = 0.0\n",
    "\n",
    "        # mistura: 70% similaridade + 20% popularidade + 10% nota\n",
    "        final_score = 0.7 * out[\"similarity\"].values + 0.2 * pop_norm + 0.1 * va_norm\n",
    "        out[\"final_score\"] = final_score\n",
    "        out = out.sort_values(by=[\"final_score\", \"similarity\"], ascending=False)\n",
    "    else:\n",
    "        out = out.sort_values(by=\"similarity\", ascending=False)\n",
    "\n",
    "    cols_show = [c for c in [\"title\", \"similarity\", \"final_score\", \"vote_average\", \"vote_count\", \"popularity\", \"id\"] if c in out.columns]\n",
    "    return out[cols_show].head(top_n).reset_index(drop=True)"
   ]
  },
  {
   "cell_type": "code",
   "execution_count": null,
   "id": "28039ae1",
   "metadata": {},
   "outputs": [],
   "source": [
    "sample_title = \"The Dark Knight\"\n",
    "rec_demo = recommend_movies(sample_title, top_n=10, exclude_same=False)\n",
    "query = \"bat costume, dark city, vigilante, high tech gadgets\"\n",
    "recs = recommend_by_text(query, top_n=10, rerank_popularity=False)\n",
    "\n",
    "print(\"Artefatos salvos em /mnt/data:\")\n",
    "print(\" - tfidf_vectorizer.pkl\")\n",
    "print(\" - tfidf_matrix.npz\")\n",
    "print(\" - movies_index.csv\")\n",
    "print(\"\\nFunção disponível: recommend_movies(<título>, top_n=10)\")"
   ]
  },
  {
   "cell_type": "code",
   "execution_count": null,
   "id": "28fd5a7f",
   "metadata": {},
   "outputs": [],
   "source": [
    "print(recs)"
   ]
  },
  {
   "cell_type": "code",
   "execution_count": null,
   "id": "f4ee4273",
   "metadata": {},
   "outputs": [],
   "source": [
    "print(rec_demo)"
   ]
  }
 ],
 "metadata": {
  "kernelspec": {
   "display_name": "Python 3",
   "language": "python",
   "name": "python3"
  },
  "language_info": {
   "codemirror_mode": {
    "name": "ipython",
    "version": 3
   },
   "file_extension": ".py",
   "mimetype": "text/x-python",
   "name": "python",
   "nbconvert_exporter": "python",
   "pygments_lexer": "ipython3",
   "version": "3.11.0"
  }
 },
 "nbformat": 4,
 "nbformat_minor": 5
}
