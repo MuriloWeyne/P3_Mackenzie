{
 "cells": [
  {
   "cell_type": "markdown",
   "id": "cdb072e1",
   "metadata": {},
   "source": [
    "# Projeto Aplicado III - Construindo um sistema de recomendação"
   ]
  },
  {
   "cell_type": "markdown",
   "id": "43c42892",
   "metadata": {},
   "source": [
    "O projeto tem como objetivo **desenvolver um sistema de recomendação de filmes** utilizando o *5000 Movie Dataset*, disponível no Kaggle, que reúne informações detalhadas sobre cerca de 5.000 produções do The Movie Database (TMDb). Esse conjunto de dados inclui variáveis como **orçamento, gêneros, popularidade, empresas produtoras, países de produção, elenco e equipe técnica**, permitindo a aplicação de técnicas de aprendizado de máquina para sugerir conteúdos mais relevantes aos usuários.\n",
    "\n",
    "A iniciativa busca não apenas aprimorar competências práticas em **ciência de dados e mineração de dados**, mas também contribuir para os **Objetivos de Desenvolvimento Sustentável (ODS)** da ONU, como o **ODS 9 (Inovação e Infraestrutura)**, o **ODS 4 (Educação de Qualidade)** e o **ODS 10 (Redução das Desigualdades)**. Assim, o sistema pretende oferecer recomendações personalizadas que promovam maior **diversidade cultural e inclusão digital**\n"
   ]
  },
  {
   "cell_type": "markdown",
   "id": "ed057d11",
   "metadata": {},
   "source": [
    "Para a análise e desenvolvimento deste projeto, será necessário utilizar um conjunto de bibliotecas do ecossistema Python, cada uma com um papel específico no fluxo de trabalho de **análise exploratória** e **construção do sistema de recomendação**.\n",
    "\n",
    "- **pandas**: essencial para manipulação e análise de dados tabulares, permitindo leitura, limpeza e transformação dos datasets `tmdb_5000_movies` e `tmdb_5000_credits`.  \n",
    "- **numpy**: fornece suporte para operações matemáticas e vetorização, aumentando a eficiência no processamento de dados.  \n",
    "- **matplotlib**: utilizada para criar visualizações básicas, como gráficos de barras, dispersão e histogramas.  \n",
    "- **seaborn**: complementa o matplotlib oferecendo visualizações estatísticas mais sofisticadas e com estética aprimorada.  \n",
    "- **scikit-learn**: importante para o pré-processamento dos dados, cálculo de métricas de avaliação e implementação de algoritmos de recomendação baseados em aprendizado de máquina.  \n",
    "- **scipy**: será usada para cálculos matemáticos \n",
    "- **surprise (scikit-surprise)**: biblioteca especializada em sistemas de recomendação, especialmente nos modelos colaborativos como **SVD** e **KNNBasic**, permitindo comparar técnicas.  \n",
    "- **lightfm**: possibilita a construção de sistemas de recomendação híbridos, combinando informações de conteúdo e interações de usuários.  \n",
    "- **tensorflow / pytorch**: úteis caso seja necessário evoluir para modelos de recomendação mais avançados baseados em **deep learning**.\n"
   ]
  },
  {
   "cell_type": "markdown",
   "id": "e07f5ca1",
   "metadata": {},
   "source": [
    "Abaixo, será realizada a importação das bibliotecas necessárias para a **análise exploratória** e a **construção do sistema de recomendação**."
   ]
  },
  {
   "cell_type": "markdown",
   "id": "07836b9a",
   "metadata": {},
   "source": [
    "Antes de iniciar a análise, é necessário garantir que todas as bibliotecas utilizadas neste projeto estejam instaladas no ambiente.  \n",
    "Para isso, basta executar o comando abaixo no terminal ou em uma célula do Jupyter Notebook (prefixado com `!`):\n",
    "\n",
    "```bash\n",
    "pip install -r requirements.txt\n"
   ]
  },
  {
   "cell_type": "code",
   "execution_count": null,
   "id": "9fb00113",
   "metadata": {},
   "outputs": [],
   "source": [
    "# Bibliotecas para análise de dados\n",
    "import pandas as pd\n",
    "import numpy as np\n",
    "import json\n",
    "import ast\n",
    "\n",
    "# Bibliotecas para visualização\n",
    "import matplotlib.pyplot as plt\n",
    "import seaborn as sns\n",
    "\n",
    "# Bibliotecas para sistemas de recomendação\n",
    "from sklearn.metrics.pairwise import cosine_similarity\n",
    "from sklearn.feature_extraction.text import CountVectorizer\n",
    "\n",
    "import scipy\n",
    "from surprise import Dataset, Reader, SVD, KNNBasic\n",
    "from lightfm import LightFM\n",
    "\n",
    "# Deep Learning (opcional, dependendo da abordagem)\n",
    "import tensorflow as tf\n",
    "import torch\n"
   ]
  },
  {
   "cell_type": "code",
   "execution_count": null,
   "id": "6bc0598c",
   "metadata": {},
   "outputs": [],
   "source": [
    "# Leitura dos datasets\n",
    "movies_df = pd.read_csv(\"datasets/tmdb_5000_movies.csv\")\n",
    "credits_df = pd.read_csv(\"datasets/tmdb_5000_credits.csv\")\n",
    "\n",
    "# Mostrando as primeiras linhas dos datasets\n",
    "print(\"📌 Movies Dataset:\")\n",
    "display(movies_df.head())\n",
    "\n",
    "print(\"\\n📌 Credits Dataset:\")\n",
    "display(credits_df.head())\n",
    "\n",
    "# Informações básicas dos datasets\n",
    "print(\"\\n🔎 Informações do Movies Dataset:\")\n",
    "print(movies_df.info())\n",
    "\n",
    "print(\"\\n🔎 Informações do Credits Dataset:\")\n",
    "print(credits_df.info())\n"
   ]
  },
  {
   "cell_type": "markdown",
   "id": "a40fd2f4",
   "metadata": {},
   "source": [
    "Nesta etapa, será realizada a **seleção das colunas relevantes** para a construção do sistema de recomendação.  \n",
    "\n",
    "O objetivo é reduzir o dataframe apenas às variáveis que realmente serão utilizadas no modelo, garantindo maior **eficiência no processamento**, evitando redundâncias e mantendo o foco nos atributos mais informativos para a geração das recomendações.\n",
    "\n",
    "Além disso, também serão tratados os valores nulos para diminuir o ruído presente no dataset.\n",
    "\n",
    "Também será feito um **merge com o dataframe de créditos**, permitindo integrar informações sobre elenco e equipe técnica ao conjunto de dados principal, enriquecendo assim a base para a construção do sistema de recomendação.\n"
   ]
  },
  {
   "cell_type": "code",
   "execution_count": null,
   "id": "505a9d77",
   "metadata": {},
   "outputs": [],
   "source": [
    "# Movies Dataset\n",
    "\n",
    "# Filtrando somente linhas em que o filme está com status 'Released'\n",
    "# Utilizamos o reset_index(drop=True) para resetar os índices do DataFrame após o filtro\n",
    "movies_df = movies_df[movies_df['status'] == 'Released'].reset_index(drop=True)\n",
    "# Agora, filtraremos apenas as colunas que nos interessam para a análise\n",
    "movies_df = movies_df[['id', 'title', 'genres', 'vote_average', 'vote_count', 'popularity', 'release_date', 'overview', 'runtime', 'keywords', 'production_companies', 'production_countries', 'spoken_languages']]\n",
    "# Tratando linhas com valores nulos\n",
    "movies_df = movies_df.dropna().reset_index(drop=True)\n",
    "# Convertendo a coluna 'release_date' para o tipo datetime\n",
    "movies_df['release_date'] = pd.to_datetime(movies_df['release_date'], errors='coerce')\n",
    "\n",
    "# Credits Dataset\n",
    "# Selecionando apenas as colunas que nos interessam\n",
    "credits_df = credits_df[['movie_id', 'cast', 'crew']]\n",
    "# Tratando linhas com valores nulos\n",
    "credits_df = credits_df.dropna().reset_index(drop=True)\n",
    "# Renomeando a coluna 'movie_id' para 'id' para facilitar o merge\n",
    "credits_df = credits_df.rename(columns={'movie_id': 'id'})\n",
    "\n",
    "# Merge dos datasets\n",
    "# Realizando o merge dos datasets 'movies_df' e 'credits_df' com base na coluna 'id'\n",
    "movies_df = movies_df.merge(credits_df, on='id')\n",
    "# Mostrando as primeiras linhas do dataset final\n",
    "print(\"\\n📌 Dataset Final após Merge:\")\n",
    "display(movies_df)\n"
   ]
  },
  {
   "cell_type": "markdown",
   "id": "cabc8c38",
   "metadata": {},
   "source": [
    "Neste trecho de código é realizado o **tratamento das colunas no formato JSON** presentes nos datasets.  \n",
    "Foram criadas funções auxiliares para converter as colunas que armazenam listas de dicionários em **listas de valores extraídos**, de forma a facilitar a manipulação e análise.  \n",
    "\n",
    "- A função `parse_json_column` é responsável por percorrer colunas no formato JSON e **extrair os valores de um campo específico** (como `name`, `iso_3166_1` ou `iso_639_1`).  \n",
    "- A função `extract_director` percorre a coluna `crew` e **identifica o diretor principal** de cada filme, criando uma nova coluna `director`.  \n",
    "\n",
    "Após o processamento, as colunas originais em JSON são transformadas em listas de valores mais simples, e a coluna `crew` foi descartada, visto que sua informação relevante (o diretor) já foi extraída.  \n",
    "Esse tratamento torna o dataframe mais **limpo e estruturado**, possibilitando seu uso na análise exploratória e na construção do sistema de recomendação."
   ]
  },
  {
   "cell_type": "code",
   "execution_count": null,
   "id": "954745df",
   "metadata": {},
   "outputs": [],
   "source": [
    "# Funções para processar as colunas JSON\n",
    "def parse_json_column(df, column_name, key='name'):\n",
    "    def extract_names(json_str):\n",
    "        if isinstance(json_str, str):\n",
    "            try:\n",
    "                list_of_dicts = ast.literal_eval(json_str)\n",
    "                if isinstance(list_of_dicts, list):\n",
    "                    return [d[key] for d in list_of_dicts if key in d]\n",
    "            except (ValueError, SyntaxError):\n",
    "                pass\n",
    "        return []\n",
    "    df[column_name] = df[column_name].apply(extract_names)\n",
    "    return df\n",
    "\n",
    "# Método para extrair o diretor do elenco\n",
    "def extract_director(crew_json):\n",
    "    if isinstance(crew_json, str):\n",
    "        try:\n",
    "            crew_list = ast.literal_eval(crew_json)\n",
    "            for member in crew_list:\n",
    "                if member.get('job') == 'Director':\n",
    "                    return member.get('name')\n",
    "        except (ValueError, SyntaxError):\n",
    "            pass\n",
    "    return np.nan\n",
    "\n",
    "# Aplicando as funções para explodir as colunas JSON\n",
    "movies_df = parse_json_column(movies_df, 'genres')\n",
    "movies_df = parse_json_column(movies_df, 'keywords')\n",
    "movies_df = parse_json_column(movies_df, 'production_companies')\n",
    "movies_df = parse_json_column(movies_df, 'production_countries', key='iso_3166_1') \n",
    "movies_df = parse_json_column(movies_df, 'spoken_languages', key='iso_639_1')\n",
    "movies_df = parse_json_column(movies_df, 'cast', key='name')\n",
    "movies_df['director'] = movies_df['crew'].apply(extract_director)\n",
    "\n",
    "# Removendo a coluna 'crew' original, pois já extraímos o diretor\n",
    "movies_df = movies_df.drop(columns=['crew'])\n",
    "\n",
    "# Mostrando as primeiras linhas do dataset após o tratamento das colunas JSON\n",
    "print(\"\\n📌 Dataset Final após tratamento de JSON:\")\n",
    "display(movies_df.head())"
   ]
  }
 ],
 "metadata": {
  "kernelspec": {
   "display_name": "Python 3",
   "language": "python",
   "name": "python3"
  },
  "language_info": {
   "codemirror_mode": {
    "name": "ipython",
    "version": 3
   },
   "file_extension": ".py",
   "mimetype": "text/x-python",
   "name": "python",
   "nbconvert_exporter": "python",
   "pygments_lexer": "ipython3",
   "version": "3.11.0"
  }
 },
 "nbformat": 4,
 "nbformat_minor": 5
}
